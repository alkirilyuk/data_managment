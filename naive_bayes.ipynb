{
 "cells": [
  {
   "cell_type": "code",
   "execution_count": 26,
   "metadata": {},
   "outputs": [],
   "source": [
    "ДЗ Кирилюк А.М. Т12О-101М-20"
   ]
  },
  {
   "cell_type": "markdown",
   "metadata": {},
   "source": [
    "# Реализовать классификатор\n",
    "\n",
    "Аналогично тому, как посчитали вероятности встретить слово `free` в каждом классе (спам/не спам) \n",
    "* в функции `fit()` подсчитать такие вероятности для каждого слова\n",
    "* в функции `predict()` по формуле байеса (см. лекцию) вычислять вероятность принадлежности входного текста к каждому из классов\n",
    "\n",
    "Результат предсказания - класс, вероятность принадлежности к которому больше"
   ]
  },
  {
   "cell_type": "code",
   "execution_count": 21,
   "metadata": {},
   "outputs": [
    {
     "name": "stdout",
     "output_type": "stream",
     "text": [
      "5570 2\n"
     ]
    }
   ],
   "source": [
    "import pandas as pd\n",
    "from pprint import pprint\n",
    "import string\n",
    "import numpy as np\n",
    "from typing import List\n",
    "from copy import deepcopy\n",
    "from collections import defaultdict\n",
    "\n",
    "filename = 'data/sms_spam_collection.tar.gz'\n",
    "\n",
    "df = pd.read_csv(\n",
    "    filename,\n",
    "    compression='gzip',\n",
    "    header=1,\n",
    "    sep='\\t',\n",
    "    encoding='utf8',\n",
    "    names=['class', 'sms_text'],\n",
    "    error_bad_lines=False\n",
    ")\n",
    "\n",
    "SPAM_CLASS = 'spam'\n",
    "NOT_SPAM_CLASS = 'ham'\n",
    "# последняя строка пустая\n",
    "df = df[:-1]\n",
    "\n",
    "num_objects, num_features = df.shape\n",
    "print(num_objects, num_features)\n",
    "\n",
    "def text_preprocess(sms_text: str) -> str:\n",
    "    \"\"\"Преобразование текста для анализа\"\"\"\n",
    "    text_no_punctuation = ''.join([ char for char in sms_text if char not in string.punctuation ])\n",
    "    text_lowercase = ' '.join( [ word.lower() for word in text_no_punctuation.split(sep=' ') ])\n",
    "    \n",
    "    return text_lowercase\n",
    "\n",
    "\n",
    "\n",
    "df = df.assign(\n",
    "    sms_text = df['sms_text'].apply(text_preprocess)\n",
    ")\n",
    "\n",
    "#print(df[:4]['sms_text'].values.tolist())\n",
    "\n",
    "#print(df[:4]['class'].tolist())\n",
    "\n",
    "\"\"\"имплементация наивного байесовского классификатора\"\"\"\n",
    "class NaiveBayes:\n",
    "    def __init__(self):\n",
    "        \n",
    "        self.labels = [NOT_SPAM_CLASS, SPAM_CLASS]\n",
    "        self.class_labels_proba = None  # априорная вероятность класса, словарь\n",
    "        self.prior_word_proba = None  # частоты фичей (токенов)\n",
    "    \n",
    "    def _set_labels_prior_proba(self, data: list, target: list) -> None:\n",
    "        \"\"\"Вычисление априорной вероятности классов\n",
    "        \n",
    "        Вызов функции должен инициализировать массив self.class_labels_proba[label]\n",
    "        \n",
    "        \"\"\"\n",
    "        class_labels_proba = dict.fromkeys(self.labels, 0.0)\n",
    "\n",
    "        spam_sms_num = len([cls for cls in target if cls == SPAM_CLASS])\n",
    "        notspam_sms_num = len([cls for cls in target if cls == NOT_SPAM_CLASS])\n",
    "        print('spam_sms_num',spam_sms_num,'notspam_sms_num',notspam_sms_num)\n",
    "        \n",
    "        class_labels_proba[SPAM_CLASS] = spam_sms_num / (spam_sms_num + notspam_sms_num)\n",
    "        class_labels_proba[NOT_SPAM_CLASS] = notspam_sms_num / (spam_sms_num + notspam_sms_num)\n",
    "\n",
    "        self.class_labels_proba = class_labels_proba\n",
    "    \n",
    "    def _tokenize_text(self, text) -> list:\n",
    "        \"\"\"Функция, которая разобьёт входной текст на токены\n",
    "        \n",
    "        Токены вернуть в виде списка\"\"\"\n",
    "        \n",
    "        tokens = text.split()\n",
    "        \n",
    "        return tokens\n",
    "    \n",
    "    def _set_word_prior_proba(self, data, target):\n",
    "        \"\"\"Вычисляем априорную вероятность токенов в классе\n",
    "        \n",
    "        Заполняем словарь self.prior_word_proba[label][token]\n",
    "        \n",
    "        \"\"\"\n",
    "        word_proba_dict_by_class = dict.fromkeys(self.labels)\n",
    "        word_proba_dict_by_class[SPAM_CLASS] = defaultdict(int)\n",
    "        word_proba_dict_by_class[NOT_SPAM_CLASS] = defaultdict(int)\n",
    "        #print(word_proba_dict_by_class)\n",
    "        \n",
    "\n",
    "        sum_count = dict.fromkeys(self.labels, 0)\n",
    "        \n",
    "        \n",
    "        for obj, label in zip(data, target):\n",
    "            #print('{'+obj+'}')\n",
    "            for token in self._tokenize_text(obj):\n",
    "                #print('{'+token+'}')\n",
    "                \n",
    "                word_proba_dict_by_class[label][token] += 1\n",
    "                \n",
    "                \n",
    "                if not label in sum_count:\n",
    "                    sum_count[label] = 0\n",
    "                sum_count[label] += 1\n",
    "    \n",
    "        print( word_proba_dict_by_class['ham']['thank'], word_proba_dict_by_class['spam']['thank'] )\n",
    "        \n",
    "        for label in word_proba_dict_by_class:\n",
    "            for token in word_proba_dict_by_class[label]:\n",
    "                word_proba_dict_by_class[label][token] = word_proba_dict_by_class[label][token] / sum_count[label]\n",
    "                \n",
    "        print('tokens=', sum_count['ham']+ sum_count['spam'])\n",
    "        \n",
    "        self.prior_word_proba = word_proba_dict_by_class\n",
    "        \n",
    "\n",
    "    def fit(self, data: list, target: list):\n",
    "        \"\"\"Обучение статистик по датасету\n",
    "\n",
    "        :param data: массив документов, каждый документ - объект типа str\n",
    "        :param target: массив меток объектов\n",
    "        :return:\n",
    "        \"\"\"\n",
    "        if not isinstance(data, list):\n",
    "            raise ValueError('Аргумент data должен иметь тип list')\n",
    "        if not isinstance(target, list):\n",
    "            raise ValueError('Аргумент target должен иметь тип list')\n",
    "        print('Данные инициализированы!')\n",
    "        self._set_labels_prior_proba(data, target)\n",
    "        print(f'Априорные вероятности классов {self.class_labels_proba}')\n",
    "        self._set_word_prior_proba(data, target)\n",
    "        print('Обучили априорные вероятности слов')\n",
    "        \n",
    "\n",
    "    def _predict_proba(self, data: list) -> List[tuple]:\n",
    "        \"\"\"Предсказываем класс для текстовой смс\n",
    "\n",
    "        :param data: массив документов, для каждого из которых нужно предсказать метку\n",
    "        :return: вероятности для каждого из классов\n",
    "        \"\"\"\n",
    "        prediction = []\n",
    "        for obj in data:\n",
    "            posterior_class_proba = defaultdict(lambda: 1)\n",
    "            for token in self._tokenize_text(obj):\n",
    "                for label in self.labels:\n",
    "                    posterior_class_proba[label] *= self.prior_word_proba[label][token]\n",
    "            # сохраняем для каждой метки класса - сколько меток, таков и размер uple\n",
    "            prediction.append(\n",
    "                tuple(\n",
    "                    posterior_class_proba[label] for label in self.labels\n",
    "                )\n",
    "            )\n",
    "        print(f'proba: {prediction}')\n",
    "        return prediction\n",
    "    \n",
    "    def predict(self, data) -> List[str]:\n",
    "        predict_labels = []\n",
    "        for proba in self._predict_proba(data):\n",
    "            predict_labels.append(self.labels[np.argmax(proba)])\n",
    "        return predict_labels\n",
    "\n",
    "naive_bayes = NaiveBayes()"
   ]
  },
  {
   "cell_type": "code",
   "execution_count": 22,
   "metadata": {
    "scrolled": true
   },
   "outputs": [
    {
     "name": "stdout",
     "output_type": "stream",
     "text": [
      "Данные инициализированы!\n",
      "spam_sms_num 747 notspam_sms_num 4823\n",
      "Априорные вероятности классов {'ham': 0.8658886894075404, 'spam': 0.1341113105924596}\n",
      "27 1\n",
      "tokens= 85640\n",
      "Обучили априорные вероятности слов\n"
     ]
    }
   ],
   "source": [
    "naive_bayes.fit(\n",
    "    data=df['sms_text'].values.tolist(),\n",
    "    target=df['class'].tolist()\n",
    ")"
   ]
  },
  {
   "cell_type": "code",
   "execution_count": 23,
   "metadata": {},
   "outputs": [
    {
     "data": {
      "text/plain": [
       "(0.0003970529845149336, 5.6692556267362094e-05)"
      ]
     },
     "execution_count": 23,
     "metadata": {},
     "output_type": "execute_result"
    }
   ],
   "source": [
    "naive_bayes.prior_word_proba['ham']['thank'], naive_bayes.prior_word_proba['spam']['thank']"
   ]
  },
  {
   "cell_type": "markdown",
   "metadata": {},
   "source": [
    "Предсказание метки класса"
   ]
  },
  {
   "cell_type": "code",
   "execution_count": 24,
   "metadata": {},
   "outputs": [
    {
     "name": "stdout",
     "output_type": "stream",
     "text": [
      "['hi test on  ltgt rd ', 'i had askd u a question some hours before its answer', 'babe  i miiiiiiissssssssss you  i need you  i crave you    geeee  im so sad without you babe  i love you ']\n",
      "proba: [(9.551858706761021e-16, 0.0), (1.0965540497136704e-31, 0.0), (9.378372803445559e-50, 0.0)]\n"
     ]
    },
    {
     "data": {
      "text/plain": [
       "['ham', 'ham', 'ham']"
      ]
     },
     "execution_count": 24,
     "metadata": {},
     "output_type": "execute_result"
    }
   ],
   "source": [
    "import numpy as np\n",
    "# рандомный объект датасета\n",
    "\n",
    "random_obj_ind = np.random.randint(low=0, high=num_objects, size=3)\n",
    "random_obj_list = df['sms_text'].values[random_obj_ind].tolist()\n",
    "random_target = df['class'][random_obj_ind].tolist()\n",
    "\n",
    "print(random_obj_list)\n",
    "naive_bayes.predict(\n",
    "    random_obj_list\n",
    ")"
   ]
  }
 ],
 "metadata": {
  "kernelspec": {
   "display_name": "Python 3",
   "language": "python",
   "name": "python3"
  },
  "language_info": {
   "codemirror_mode": {
    "name": "ipython",
    "version": 3
   },
   "file_extension": ".py",
   "mimetype": "text/x-python",
   "name": "python",
   "nbconvert_exporter": "python",
   "pygments_lexer": "ipython3",
   "version": "3.6.9"
  }
 },
 "nbformat": 4,
 "nbformat_minor": 4
}
